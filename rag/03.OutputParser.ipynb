{
 "cells": [
  {
   "cell_type": "code",
   "execution_count": 7,
   "metadata": {},
   "outputs": [
    {
     "data": {
      "text/plain": [
       "True"
      ]
     },
     "execution_count": 7,
     "metadata": {},
     "output_type": "execute_result"
    }
   ],
   "source": [
    "from dotenv import load_dotenv\n",
    "load_dotenv()"
   ]
  },
  {
   "cell_type": "code",
   "execution_count": null,
   "metadata": {},
   "outputs": [
    {
     "data": {
      "text/plain": [
       "AIMessage(content='병원은 질병이나 부상을 치료하고 건강을 관리하기 위해 의료 서비스를 제공하는 장소입니다. 병원에서는 의사, 간호사, 그리고 다양한 의료진이 환자의 진단, 치료, 수술 및 요양을 담당합니다. 다양한 전문 분야의 진료가 이루어지며, 응급실, 외래 진료, 입원 치료 등 여러 기능을 갖추고 있습니다.', additional_kwargs={'refusal': None}, response_metadata={'token_usage': {'completion_tokens': 86, 'prompt_tokens': 22, 'total_tokens': 108, 'completion_tokens_details': {'accepted_prediction_tokens': 0, 'audio_tokens': 0, 'reasoning_tokens': 0, 'rejected_prediction_tokens': 0}, 'prompt_tokens_details': {'audio_tokens': 0, 'cached_tokens': 0}}, 'model_name': 'gpt-4o-mini-2024-07-18', 'system_fingerprint': 'fp_560af6e559', 'id': 'chatcmpl-CHowVnXowb8NKMoeIJXmPMjL9G4gD', 'service_tier': 'default', 'finish_reason': 'stop', 'logprobs': None}, id='run--ffe87f4b-2811-431b-9e18-cb47b3d5741f-0', usage_metadata={'input_tokens': 22, 'output_tokens': 86, 'total_tokens': 108, 'input_token_details': {'audio': 0, 'cache_read': 0}, 'output_token_details': {'audio': 0, 'reasoning': 0}})"
      ]
     },
     "execution_count": 6,
     "metadata": {},
     "output_type": "execute_result"
    }
   ],
   "source": [
    "from dotenv import load_dotenv\n",
    "from langchain_openai import ChatOpenAI\n",
    "from langchain_core.prompts import PromptTemplate\n",
    "import os\n",
    "\n",
    "load_dotenv()\n",
    "\n",
    "llm = ChatOpenAI(model=\"gpt-4o-mini\")\n",
    "prompt_template = PromptTemplate.from_template(\n",
    "    \"입력한 단어에 대해 간단히 설명하세요 : {word}\"\n",
    ")\n",
    "\n",
    "chain = prompt_template | llm\n",
    "chain.invoke(\n",
    "    {\n",
    "        \"word\": \"병원\"\n",
    "    }\n",
    ")"
   ]
  },
  {
   "cell_type": "code",
   "execution_count": 2,
   "metadata": {},
   "outputs": [
    {
     "data": {
      "text/plain": [
       "'병원은 질병이나 부상을 치료하고, 건강을 돌보기 위해 의료 서비스와 시설을 제공하는 기관입니다. 병원에서는 의사, 간호사, 치료사 등 다양한 전문가들이 환자를 진료하고, 수술, 검사, 치료 등의 의료행위를 수행합니다. 또한 입원 환자를 위한 병상과 응급실, 외래 진료소 등의 시설을 갖추고 있습니다. 병원은 주로 환자의 건강 회복과 유지, 예방적 치료를 목표로 합니다.'"
      ]
     },
     "execution_count": 2,
     "metadata": {},
     "output_type": "execute_result"
    }
   ],
   "source": [
    "from langchain_core.output_parsers import StrOutputParser\n",
    "parser = StrOutputParser()\n",
    "\n",
    "chain = prompt_template | llm | parser\n",
    "chain.invoke({ \"word\": \"병원\"})"
   ]
  },
  {
   "cell_type": "code",
   "execution_count": null,
   "metadata": {},
   "outputs": [
    {
     "data": {
      "text/plain": [
       "'Return a JSON object.'"
      ]
     },
     "execution_count": 7,
     "metadata": {},
     "output_type": "execute_result"
    }
   ],
   "source": [
    "from langchain_core.output_parsers import JsonOutputParser\n",
    "parser = JsonOutputParser()\n",
    "parser.get_format_instructions()\n",
    "# "
   ]
  },
  {
   "cell_type": "code",
   "execution_count": null,
   "metadata": {},
   "outputs": [
    {
     "data": {
      "text/plain": [
       "{'related_words': ['의사',\n",
       "  '환자',\n",
       "  '간호사',\n",
       "  '치료',\n",
       "  '진료',\n",
       "  '약국',\n",
       "  '수술',\n",
       "  '건강',\n",
       "  '응급실',\n",
       "  '검사']}"
      ]
     },
     "execution_count": 10,
     "metadata": {},
     "output_type": "execute_result"
    }
   ],
   "source": [
    "prompt_template = PromptTemplate(\n",
    "    template=\"\"\"\n",
    "    입력한 단어와 관련 있는 단어를 알려주세요\n",
    "    - 제약 사항: {format_instructions}\n",
    "    - 입력 단어: {word}\n",
    "    \"\"\",\n",
    "    input_variables=[\"word\"],\n",
    "    partial_variables={\"format_instructions\":parser.get_format_instructions()}\n",
    ")\n",
    "\n",
    "chain = prompt_template | llm | parser\n",
    "chain.invoke({\"word\":\"병원\"})"
   ]
  },
  {
   "cell_type": "code",
   "execution_count": null,
   "metadata": {},
   "outputs": [
    {
     "data": {
      "text/plain": [
       "'Your response should be a list of comma separated values, eg: `foo, bar, baz` or `foo,bar,baz`'"
      ]
     },
     "execution_count": 5,
     "metadata": {},
     "output_type": "execute_result"
    }
   ],
   "source": [
    "from langchain_core.output_parsers import CommaSeparatedListOutputParser\n",
    "parser = CommaSeparatedListOutputParser() # csv 처럼 ,로 구분\n",
    "parser.get_format_instructions()"
   ]
  },
  {
   "cell_type": "code",
   "execution_count": 11,
   "metadata": {},
   "outputs": [
    {
     "data": {
      "text/plain": [
       "{'관련_단어': ['의사', '간호사', '환자', '치료', '약', '진료', '수술', '응급실', '검사', '입원']}"
      ]
     },
     "execution_count": 11,
     "metadata": {},
     "output_type": "execute_result"
    }
   ],
   "source": [
    "prompt_template = PromptTemplate(\n",
    "    template=\"\"\"\n",
    "    입력한 단어와 관련 있는 단어를 알려주세요\n",
    "    - 제약 사항: {format_instructions}\n",
    "    - 입력 단어: {word}\n",
    "    \"\"\",\n",
    "    input_variables=[\"word\"],\n",
    "    partial_variables={\"format_instructions\":parser.get_format_instructions()}\n",
    ")\n",
    "\n",
    "chain = prompt_template | llm | parser\n",
    "chain.invoke({\"word\":\"병원\"})"
   ]
  },
  {
   "cell_type": "code",
   "execution_count": null,
   "metadata": {},
   "outputs": [],
   "source": []
  }
 ],
 "metadata": {
  "kernelspec": {
   "display_name": ".venv",
   "language": "python",
   "name": "python3"
  },
  "language_info": {
   "codemirror_mode": {
    "name": "ipython",
    "version": 3
   },
   "file_extension": ".py",
   "mimetype": "text/x-python",
   "name": "python",
   "nbconvert_exporter": "python",
   "pygments_lexer": "ipython3",
   "version": "3.13.5"
  }
 },
 "nbformat": 4,
 "nbformat_minor": 2
}
