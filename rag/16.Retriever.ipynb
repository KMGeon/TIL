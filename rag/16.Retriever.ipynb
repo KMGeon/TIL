{
 "cells": [
  {
   "cell_type": "code",
   "execution_count": 1,
   "metadata": {},
   "outputs": [
    {
     "name": "stderr",
     "output_type": "stream",
     "text": [
      "c:\\Python311\\Lib\\site-packages\\tqdm\\auto.py:21: TqdmWarning: IProgress not found. Please update jupyter and ipywidgets. See https://ipywidgets.readthedocs.io/en/stable/user_install.html\n",
      "  from .autonotebook import tqdm as notebook_tqdm\n"
     ]
    }
   ],
   "source": [
    "from langchain_huggingface import HuggingFaceEmbeddings\n",
    "model_name = \"BAAI/bge-m3\"\n",
    "hf_embeddings = HuggingFaceEmbeddings(model_name=model_name)"
   ]
  },
  {
   "cell_type": "code",
   "execution_count": 2,
   "metadata": {},
   "outputs": [],
   "source": [
    "from langchain_chroma import Chroma\n",
    "db = Chroma(persist_directory=\"./news_chroma_db\", embedding_function=hf_embeddings)"
   ]
  },
  {
   "cell_type": "code",
   "execution_count": 3,
   "metadata": {},
   "outputs": [
    {
     "data": {
      "text/plain": [
       "[Document(id='9223ae6a-28b7-4fa4-83ff-8714cc64367a', metadata={'source': './docs/news.txt'}, page_content='경제 : 세계적인 인플레이션 압박으로 각국 중앙은행들이 금리 인상에 나섰습니다. 특히 미국 연방준비제도는 예상보다 더 강력한 금리 인상을 단행하며 시장에 충격을 주었습니다. 이로 인해 주식과 채권 시장에서 대규모 매도세가 발생했습니다.'),\n",
       " Document(id='5620d7f6-230a-4397-afd5-b676d5dd56a1', metadata={'source': './docs/news.txt'}, page_content='환경 : 지구 온난화로 인한 극단적인 기후 변화가 전 세계적으로 심각한 피해를 초래하고 있습니다. 북극 해빙이 급격히 녹고 있으며, 이로 인해 해수면 상승이 가속화되고 있습니다. 환경 단체들은 즉각적인 탄소 배출 감축이 필요하다고 경고하고 있습니다.'),\n",
       " Document(id='3c4637c5-a321-4450-beb5-066019522aef', metadata={'source': './docs/news.txt'}, page_content='국제 : 아시아-태평양 지역에서의 경제 협력이 강화되고 있습니다. 주요 국가들은 무역 장벽을 낮추고 공동 개발 프로젝트를 추진하며 상호 이익을 추구하고 있습니다. 그러나 중국과 미국 간의 갈등이 여전히 지역 안정에 큰 변수로 작용하고 있습니다.'),\n",
       " Document(id='d0386812-3dd3-44f3-88c5-7a95c54d5343', metadata={'source': './docs/news.txt'}, page_content='보건 : 최근 신종 바이러스의 확산이 일부 국가에서 급격히 증가하고 있습니다. 이에 따라 각국 정부는 예방접종 캠페인과 함께 강력한 방역 조치를 시행하고 있습니다. 보건 전문가들은 지속적인 모니터링과 빠른 대응이 필요하다고 강조하고 있습니다.')]"
      ]
     },
     "execution_count": 3,
     "metadata": {},
     "output_type": "execute_result"
    }
   ],
   "source": [
    "retriever = db.as_retriever()\n",
    "\n",
    "result = retriever.invoke(\"각국 중앙은행들의 금리 인상 이유는?\")\n",
    "result"
   ]
  },
  {
   "cell_type": "code",
   "execution_count": 4,
   "metadata": {},
   "outputs": [
    {
     "data": {
      "text/plain": [
       "[Document(id='5620d7f6-230a-4397-afd5-b676d5dd56a1', metadata={'source': './docs/news.txt'}, page_content='환경 : 지구 온난화로 인한 극단적인 기후 변화가 전 세계적으로 심각한 피해를 초래하고 있습니다. 북극 해빙이 급격히 녹고 있으며, 이로 인해 해수면 상승이 가속화되고 있습니다. 환경 단체들은 즉각적인 탄소 배출 감축이 필요하다고 경고하고 있습니다.'),\n",
       " Document(id='3c4637c5-a321-4450-beb5-066019522aef', metadata={'source': './docs/news.txt'}, page_content='국제 : 아시아-태평양 지역에서의 경제 협력이 강화되고 있습니다. 주요 국가들은 무역 장벽을 낮추고 공동 개발 프로젝트를 추진하며 상호 이익을 추구하고 있습니다. 그러나 중국과 미국 간의 갈등이 여전히 지역 안정에 큰 변수로 작용하고 있습니다.')]"
      ]
     },
     "execution_count": 4,
     "metadata": {},
     "output_type": "execute_result"
    }
   ],
   "source": [
    "retriever = db.as_retriever(search_kwargs={\"k\": 2})\n",
    "\n",
    "result = retriever.invoke(\"해수면이 높아지는 이유는?\")\n",
    "result"
   ]
  },
  {
   "cell_type": "code",
   "execution_count": 5,
   "metadata": {},
   "outputs": [
    {
     "data": {
      "text/plain": [
       "[(Document(id='5620d7f6-230a-4397-afd5-b676d5dd56a1', metadata={'source': './docs/news.txt'}, page_content='환경 : 지구 온난화로 인한 극단적인 기후 변화가 전 세계적으로 심각한 피해를 초래하고 있습니다. 북극 해빙이 급격히 녹고 있으며, 이로 인해 해수면 상승이 가속화되고 있습니다. 환경 단체들은 즉각적인 탄소 배출 감축이 필요하다고 경고하고 있습니다.'),\n",
       "  0.447099367673789),\n",
       " (Document(id='3c4637c5-a321-4450-beb5-066019522aef', metadata={'source': './docs/news.txt'}, page_content='국제 : 아시아-태평양 지역에서의 경제 협력이 강화되고 있습니다. 주요 국가들은 무역 장벽을 낮추고 공동 개발 프로젝트를 추진하며 상호 이익을 추구하고 있습니다. 그러나 중국과 미국 간의 갈등이 여전히 지역 안정에 큰 변수로 작용하고 있습니다.'),\n",
       "  0.25966155632685817),\n",
       " (Document(id='9223ae6a-28b7-4fa4-83ff-8714cc64367a', metadata={'source': './docs/news.txt'}, page_content='경제 : 세계적인 인플레이션 압박으로 각국 중앙은행들이 금리 인상에 나섰습니다. 특히 미국 연방준비제도는 예상보다 더 강력한 금리 인상을 단행하며 시장에 충격을 주었습니다. 이로 인해 주식과 채권 시장에서 대규모 매도세가 발생했습니다.'),\n",
       "  0.21129121584124255),\n",
       " (Document(id='da948812-8fe6-4e34-a9a1-b9ab2f70bac3', metadata={'source': './docs/news.txt'}, page_content='우주 : NASA가 새롭게 발사한 우주 망원경이 태양계 외곽의 신비로운 행성을 발견했습니다. 과학자들은 이 행성의 대기에서 생명체의 존재를 암시하는 화합물을 발견했다고 발표했습니다. 이 발견은 우주 탐사에 새로운 이정표가 될 것으로 기대됩니다.'),\n",
       "  0.10875208863880859)]"
      ]
     },
     "execution_count": 5,
     "metadata": {},
     "output_type": "execute_result"
    }
   ],
   "source": [
    "result = db.similarity_search_with_relevance_scores(\"해수면이 높아지는 이유는?\")\n",
    "result"
   ]
  },
  {
   "cell_type": "code",
   "execution_count": 7,
   "metadata": {},
   "outputs": [
    {
     "data": {
      "text/plain": [
       "[Document(id='5620d7f6-230a-4397-afd5-b676d5dd56a1', metadata={'source': './docs/news.txt'}, page_content='환경 : 지구 온난화로 인한 극단적인 기후 변화가 전 세계적으로 심각한 피해를 초래하고 있습니다. 북극 해빙이 급격히 녹고 있으며, 이로 인해 해수면 상승이 가속화되고 있습니다. 환경 단체들은 즉각적인 탄소 배출 감축이 필요하다고 경고하고 있습니다.'),\n",
       " Document(id='3c4637c5-a321-4450-beb5-066019522aef', metadata={'source': './docs/news.txt'}, page_content='국제 : 아시아-태평양 지역에서의 경제 협력이 강화되고 있습니다. 주요 국가들은 무역 장벽을 낮추고 공동 개발 프로젝트를 추진하며 상호 이익을 추구하고 있습니다. 그러나 중국과 미국 간의 갈등이 여전히 지역 안정에 큰 변수로 작용하고 있습니다.')]"
      ]
     },
     "execution_count": 7,
     "metadata": {},
     "output_type": "execute_result"
    }
   ],
   "source": [
    "retriever = db.as_retriever(\n",
    "    search_type=\"similarity_score_threshold\",\n",
    "    search_kwargs={\"score_threshold\": 0.25}\n",
    ")\n",
    "\n",
    "result = retriever.invoke(\"해수면이 높아지는 이유는?\")\n",
    "result"
   ]
  },
  {
   "cell_type": "code",
   "execution_count": 9,
   "metadata": {},
   "outputs": [
    {
     "name": "stderr",
     "output_type": "stream",
     "text": [
      "Created a chunk of size 52, which is longer than the specified 0\n",
      "Created a chunk of size 46, which is longer than the specified 0\n",
      "Created a chunk of size 43, which is longer than the specified 0\n",
      "Created a chunk of size 47, which is longer than the specified 0\n",
      "Created a chunk of size 41, which is longer than the specified 0\n",
      "Created a chunk of size 41, which is longer than the specified 0\n",
      "Created a chunk of size 47, which is longer than the specified 0\n",
      "Created a chunk of size 38, which is longer than the specified 0\n",
      "Created a chunk of size 40, which is longer than the specified 0\n",
      "Created a chunk of size 41, which is longer than the specified 0\n",
      "Created a chunk of size 38, which is longer than the specified 0\n",
      "Created a chunk of size 46, which is longer than the specified 0\n",
      "Created a chunk of size 36, which is longer than the specified 0\n",
      "Created a chunk of size 35, which is longer than the specified 0\n",
      "Created a chunk of size 45, which is longer than the specified 0\n",
      "Created a chunk of size 39, which is longer than the specified 0\n",
      "Created a chunk of size 47, which is longer than the specified 0\n",
      "Created a chunk of size 47, which is longer than the specified 0\n",
      "Created a chunk of size 43, which is longer than the specified 0\n"
     ]
    },
    {
     "data": {
      "text/plain": [
       "20"
      ]
     },
     "execution_count": 9,
     "metadata": {},
     "output_type": "execute_result"
    }
   ],
   "source": [
    "from langchain_community.document_loaders import TextLoader\n",
    "from langchain_text_splitters import CharacterTextSplitter\n",
    "\n",
    "text_splitter = CharacterTextSplitter(\n",
    "    separator=\"\\n\",\n",
    "    chunk_size=0,\n",
    "    chunk_overlap=0\n",
    ")\n",
    "\n",
    "loader = TextLoader(\"./docs/travel.txt\", encoding=\"utf-8\")\n",
    "documents = loader.load_and_split(text_splitter=text_splitter)\n",
    "len(documents)"
   ]
  },
  {
   "cell_type": "code",
   "execution_count": 10,
   "metadata": {},
   "outputs": [],
   "source": [
    "db = Chroma.from_documents(documents, hf_embeddings)\n",
    "\n",
    "retriever = db.as_retriever(\n",
    "    search_type=\"similarity_score_threshold\",\n",
    "    search_kwargs={\"score_threshold\": 0.25}\n",
    ")"
   ]
  },
  {
   "cell_type": "code",
   "execution_count": 12,
   "metadata": {},
   "outputs": [
    {
     "data": {
      "text/plain": [
       "[Document(id='61d999fa-aa4a-4fb6-8e18-87d51956266e', metadata={'source': './docs/travel.txt'}, page_content='여행 예산을 절약하는 10가지 방법. 적은 비용으로 알차게 여행하는 법.'),\n",
       " Document(id='38c0c526-5d88-461b-902c-b0811596ff3f', metadata={'source': './docs/travel.txt'}, page_content='효율적인 여행 계획 세우기. 예산을 절약하면서도 만족스러운 여행을 하는 방법.'),\n",
       " Document(id='2a172848-edfa-4113-bc01-f63f54af519c', metadata={'source': './docs/travel.txt'}, page_content='여행 일정 짜는 방법. 관광 명소를 효과적으로 방문하기 위한 스케줄링 팁.'),\n",
       " Document(id='b577c496-e682-4a57-a1f8-1016f13c4e15', metadata={'source': './docs/travel.txt'}, page_content='여행 경로를 설계하는 법. 최적의 동선을 계획하여 피로도를 줄이는 방법을 소개합니다.')]"
      ]
     },
     "execution_count": 12,
     "metadata": {},
     "output_type": "execute_result"
    }
   ],
   "source": [
    "result = retriever.invoke(\"이색적인 여행 방법과 예산 절약 팁\")\n",
    "result"
   ]
  },
  {
   "cell_type": "code",
   "execution_count": 14,
   "metadata": {},
   "outputs": [
    {
     "data": {
      "text/plain": [
       "[Document(id='61d999fa-aa4a-4fb6-8e18-87d51956266e', metadata={'source': './docs/travel.txt'}, page_content='여행 예산을 절약하는 10가지 방법. 적은 비용으로 알차게 여행하는 법.'),\n",
       " Document(id='586b9a52-e826-4a4f-9e1a-88cd97823d98', metadata={'source': './docs/travel.txt'}, page_content='배낭여행과 럭셔리 여행의 차이. 각각의 장점과 단점을 비교해 봅니다.'),\n",
       " Document(id='f6805cd9-6fb6-4bf4-adf6-15cc6f88faac', metadata={'source': './docs/travel.txt'}, page_content='사막 여행의 매력. 광활한 사막에서 즐길 수 있는 색다른 경험들.'),\n",
       " Document(id='5f07f1b9-15d7-4559-aeb4-22b1b6cfdd8c', metadata={'source': './docs/travel.txt'}, page_content='북극과 남극 여행 가이드. 극지방 탐험을 위한 준비와 주의사항.'),\n",
       " Document(id='92c2e5c3-7b03-489f-be48-0d080dbceb04', metadata={'source': './docs/travel.txt'}, page_content='세계에서 가장 아름다운 해변 10선. 푸른 바다와 하얀 모래가 있는 최고의 여행지.')]"
      ]
     },
     "execution_count": 14,
     "metadata": {},
     "output_type": "execute_result"
    }
   ],
   "source": [
    "# MMR : Maximal Marginal Relevance\n",
    "retriever = db.as_retriever(\n",
    "    search_type=\"mmr\",\n",
    "    search_kwargs={\"k\": 5, \"fetch_k\": 20, \"lambda_mult\": 0.15}\n",
    ")\n",
    "\n",
    "result = retriever.invoke(\"이색적인 여행 방법과 예산 절약 팁\")\n",
    "result"
   ]
  }
 ],
 "metadata": {
  "kernelspec": {
   "display_name": "Python 3",
   "language": "python",
   "name": "python3"
  },
  "language_info": {
   "codemirror_mode": {
    "name": "ipython",
    "version": 3
   },
   "file_extension": ".py",
   "mimetype": "text/x-python",
   "name": "python",
   "nbconvert_exporter": "python",
   "pygments_lexer": "ipython3",
   "version": "3.11.9"
  }
 },
 "nbformat": 4,
 "nbformat_minor": 2
}
